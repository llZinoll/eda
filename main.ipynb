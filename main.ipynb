{
 "cells": [
  {
   "cell_type": "markdown",
   "metadata": {},
   "source": [
    "Preguntas a responder:\n",
    "-Cuantos juegos se crean de media?\n",
    "-Cuantos compradores hay?\n",
    "-Por que antes hay mas compradores de juegos?\n",
    "-Que es lo que hace un juego sea bueno?\n"
   ]
  },
  {
   "cell_type": "code",
   "execution_count": 159,
   "metadata": {},
   "outputs": [],
   "source": [
    "#Importamos librerias\n",
    "import numpy as np\n",
    "import pandas as pd\n",
    "import matplotlib\n",
    "import matplotlib.pyplot as plt\n",
    "import seaborn as sns\n",
    "import plotly.express as px\n",
    "import re\n",
    "#Importar el data set\n",
    "data = pd.read_csv('./bgg_dataset.csv', sep=';')"
   ]
  },
  {
   "cell_type": "code",
   "execution_count": 160,
   "metadata": {},
   "outputs": [
    {
     "name": "stdout",
     "output_type": "stream",
     "text": [
      "<class 'pandas.core.frame.DataFrame'>\n",
      "RangeIndex: 20343 entries, 0 to 20342\n",
      "Data columns (total 14 columns):\n",
      " #   Column              Non-Null Count  Dtype  \n",
      "---  ------              --------------  -----  \n",
      " 0   ID                  20327 non-null  float64\n",
      " 1   Name                20343 non-null  object \n",
      " 2   Year Published      20342 non-null  float64\n",
      " 3   Min Players         20343 non-null  int64  \n",
      " 4   Max Players         20343 non-null  int64  \n",
      " 5   Play Time           20343 non-null  int64  \n",
      " 6   Min Age             20343 non-null  int64  \n",
      " 7   Users Rated         20343 non-null  int64  \n",
      " 8   Rating Average      20343 non-null  object \n",
      " 9   BGG Rank            20343 non-null  int64  \n",
      " 10  Complexity Average  20343 non-null  object \n",
      " 11  Owned Users         20320 non-null  float64\n",
      " 12  Mechanics           18745 non-null  object \n",
      " 13  Domains             10184 non-null  object \n",
      "dtypes: float64(3), int64(6), object(5)\n",
      "memory usage: 2.2+ MB\n"
     ]
    }
   ],
   "source": [
    "#Para ver el tipo de data con el que se va trabajar\n",
    "data.info()"
   ]
  },
  {
   "cell_type": "code",
   "execution_count": 161,
   "metadata": {},
   "outputs": [
    {
     "data": {
      "text/html": [
       "<div>\n",
       "<style scoped>\n",
       "    .dataframe tbody tr th:only-of-type {\n",
       "        vertical-align: middle;\n",
       "    }\n",
       "\n",
       "    .dataframe tbody tr th {\n",
       "        vertical-align: top;\n",
       "    }\n",
       "\n",
       "    .dataframe thead th {\n",
       "        text-align: right;\n",
       "    }\n",
       "</style>\n",
       "<table border=\"1\" class=\"dataframe\">\n",
       "  <thead>\n",
       "    <tr style=\"text-align: right;\">\n",
       "      <th></th>\n",
       "      <th>Year Published</th>\n",
       "      <th>Name</th>\n",
       "    </tr>\n",
       "  </thead>\n",
       "  <tbody>\n",
       "    <tr>\n",
       "      <th>8174</th>\n",
       "      <td>-3500.0</td>\n",
       "      <td>Senet</td>\n",
       "    </tr>\n",
       "  </tbody>\n",
       "</table>\n",
       "</div>"
      ],
      "text/plain": [
       "      Year Published   Name\n",
       "8174         -3500.0  Senet"
      ]
     },
     "execution_count": 161,
     "metadata": {},
     "output_type": "execute_result"
    }
   ],
   "source": [
    "#Para saber el primer juego que se creo y el ultimo de esta base de datos\n",
    "(data[['Year Published', 'Name']].loc[data['Year Published'] == max(data['Year Published'])])\n",
    "#Dato curioso:\n",
    "#Se trata de uno de los juegos de mesa más antiguos, el objetivo del senet es sacar tus piezas del tablero antes que el adversario, siguiendo una serie de reglas\n",
    "oldest_g =(data[['Year Published', 'Name']].loc[data['Year Published'] == min(data['Year Published'])])\n",
    "oldest_g"
   ]
  },
  {
   "cell_type": "code",
   "execution_count": 162,
   "metadata": {},
   "outputs": [
    {
     "data": {
      "text/html": [
       "<div>\n",
       "<style scoped>\n",
       "    .dataframe tbody tr th:only-of-type {\n",
       "        vertical-align: middle;\n",
       "    }\n",
       "\n",
       "    .dataframe tbody tr th {\n",
       "        vertical-align: top;\n",
       "    }\n",
       "\n",
       "    .dataframe thead th {\n",
       "        text-align: right;\n",
       "    }\n",
       "</style>\n",
       "<table border=\"1\" class=\"dataframe\">\n",
       "  <thead>\n",
       "    <tr style=\"text-align: right;\">\n",
       "      <th></th>\n",
       "      <th>Year Published</th>\n",
       "      <th>Name</th>\n",
       "    </tr>\n",
       "  </thead>\n",
       "  <tbody>\n",
       "    <tr>\n",
       "      <th>8978</th>\n",
       "      <td>2022.0</td>\n",
       "      <td>The 7th Citadel</td>\n",
       "    </tr>\n",
       "    <tr>\n",
       "      <th>9487</th>\n",
       "      <td>2021.0</td>\n",
       "      <td>Railroad Ink Challenge: Lush Green Edition</td>\n",
       "    </tr>\n",
       "    <tr>\n",
       "      <th>9268</th>\n",
       "      <td>2021.0</td>\n",
       "      <td>Zombicide (2nd Edition)</td>\n",
       "    </tr>\n",
       "    <tr>\n",
       "      <th>8756</th>\n",
       "      <td>2021.0</td>\n",
       "      <td>Jekyll vs. Hyde</td>\n",
       "    </tr>\n",
       "    <tr>\n",
       "      <th>7315</th>\n",
       "      <td>2021.0</td>\n",
       "      <td>Kōhaku</td>\n",
       "    </tr>\n",
       "    <tr>\n",
       "      <th>...</th>\n",
       "      <td>...</td>\n",
       "      <td>...</td>\n",
       "    </tr>\n",
       "    <tr>\n",
       "      <th>8924</th>\n",
       "      <td>-2600.0</td>\n",
       "      <td>The Royal Game of Ur</td>\n",
       "    </tr>\n",
       "    <tr>\n",
       "      <th>20219</th>\n",
       "      <td>-3000.0</td>\n",
       "      <td>Marbles</td>\n",
       "    </tr>\n",
       "    <tr>\n",
       "      <th>1275</th>\n",
       "      <td>-3000.0</td>\n",
       "      <td>Backgammon</td>\n",
       "    </tr>\n",
       "    <tr>\n",
       "      <th>8174</th>\n",
       "      <td>-3500.0</td>\n",
       "      <td>Senet</td>\n",
       "    </tr>\n",
       "    <tr>\n",
       "      <th>13984</th>\n",
       "      <td>NaN</td>\n",
       "      <td>Hus</td>\n",
       "    </tr>\n",
       "  </tbody>\n",
       "</table>\n",
       "<p>20343 rows × 2 columns</p>\n",
       "</div>"
      ],
      "text/plain": [
       "       Year Published                                        Name\n",
       "8978           2022.0                             The 7th Citadel\n",
       "9487           2021.0  Railroad Ink Challenge: Lush Green Edition\n",
       "9268           2021.0                     Zombicide (2nd Edition)\n",
       "8756           2021.0                             Jekyll vs. Hyde\n",
       "7315           2021.0                                      Kōhaku\n",
       "...               ...                                         ...\n",
       "8924          -2600.0                        The Royal Game of Ur\n",
       "20219         -3000.0                                     Marbles\n",
       "1275          -3000.0                                  Backgammon\n",
       "8174          -3500.0                                       Senet\n",
       "13984             NaN                                         Hus\n",
       "\n",
       "[20343 rows x 2 columns]"
      ]
     },
     "execution_count": 162,
     "metadata": {},
     "output_type": "execute_result"
    }
   ],
   "source": [
    "juegos_Unicos = data[['Year Published', 'Name']]\n",
    "juegos_Unicos.sort_values(by='Year Published', ascending=False)"
   ]
  },
  {
   "cell_type": "code",
   "execution_count": 163,
   "metadata": {},
   "outputs": [
    {
     "data": {
      "text/plain": [
       "Index(['ID', 'Year Published', 'Owned Users', 'Mechanics', 'Domains'], dtype='object')"
      ]
     },
     "execution_count": 163,
     "metadata": {},
     "output_type": "execute_result"
    }
   ],
   "source": [
    "#Limpiar el codigo de todos los NA - Not aviable\n",
    "data.columns[data.isnull().any()]\n",
    "\n"
   ]
  },
  {
   "cell_type": "code",
   "execution_count": 164,
   "metadata": {},
   "outputs": [],
   "source": [
    "#Para la depuracion de Owners a la posibilidad de que no hayan registros debido a la antiguedad\n",
    "data = data[data[\"Owned Users\"].notna()]"
   ]
  },
  {
   "cell_type": "code",
   "execution_count": 165,
   "metadata": {},
   "outputs": [
    {
     "data": {
      "text/plain": [
       "Index(['Mechanics', 'Domains'], dtype='object')"
      ]
     },
     "execution_count": 165,
     "metadata": {},
     "output_type": "execute_result"
    }
   ],
   "source": [
    "data.columns[data.isnull().any()]\n",
    "#conb la depuracion de owner se consiguio que su id y year tambien se depuran"
   ]
  },
  {
   "cell_type": "code",
   "execution_count": 166,
   "metadata": {},
   "outputs": [],
   "source": [
    "#Revisando domaibns y mechanics decido remplazarlo por que 'no hay' o 'Simple'\n",
    "data['Domains']   = data.Domains.fillna('Simple')#Tipo de juego\n",
    "data['Mechanics'] = data.Mechanics.fillna('No hay')#Estilo de juego"
   ]
  },
  {
   "cell_type": "code",
   "execution_count": 167,
   "metadata": {},
   "outputs": [],
   "source": [
    "#A la vista de year published depurare para que no haya decimal\n",
    "data['Year Published'] =  data['Year Published'].astype(int)\n",
    "\n"
   ]
  },
  {
   "cell_type": "code",
   "execution_count": 168,
   "metadata": {},
   "outputs": [
    {
     "data": {
      "text/html": [
       "<div>\n",
       "<style scoped>\n",
       "    .dataframe tbody tr th:only-of-type {\n",
       "        vertical-align: middle;\n",
       "    }\n",
       "\n",
       "    .dataframe tbody tr th {\n",
       "        vertical-align: top;\n",
       "    }\n",
       "\n",
       "    .dataframe thead th {\n",
       "        text-align: right;\n",
       "    }\n",
       "</style>\n",
       "<table border=\"1\" class=\"dataframe\">\n",
       "  <thead>\n",
       "    <tr style=\"text-align: right;\">\n",
       "      <th></th>\n",
       "      <th>ID</th>\n",
       "      <th>Name</th>\n",
       "      <th>Year Published</th>\n",
       "      <th>Min Players</th>\n",
       "      <th>Max Players</th>\n",
       "      <th>Play Time</th>\n",
       "      <th>Min Age</th>\n",
       "      <th>Users Rated</th>\n",
       "      <th>Rating Average</th>\n",
       "      <th>BGG Rank</th>\n",
       "      <th>Complexity Average</th>\n",
       "      <th>Owned Users</th>\n",
       "      <th>Mechanics</th>\n",
       "      <th>Domains</th>\n",
       "    </tr>\n",
       "  </thead>\n",
       "  <tbody>\n",
       "    <tr>\n",
       "      <th>8978</th>\n",
       "      <td>286063.0</td>\n",
       "      <td>The 7th Citadel</td>\n",
       "      <td>2022</td>\n",
       "      <td>1</td>\n",
       "      <td>4</td>\n",
       "      <td>1000</td>\n",
       "      <td>14</td>\n",
       "      <td>44</td>\n",
       "      <td>8,27</td>\n",
       "      <td>8980</td>\n",
       "      <td>2</td>\n",
       "      <td>383.0</td>\n",
       "      <td>Cooperative Game, Grid Movement, Hand Manageme...</td>\n",
       "      <td>Simple</td>\n",
       "    </tr>\n",
       "    <tr>\n",
       "      <th>1434</th>\n",
       "      <td>290236.0</td>\n",
       "      <td>Canvas</td>\n",
       "      <td>2021</td>\n",
       "      <td>1</td>\n",
       "      <td>5</td>\n",
       "      <td>30</td>\n",
       "      <td>14</td>\n",
       "      <td>953</td>\n",
       "      <td>7,81</td>\n",
       "      <td>1435</td>\n",
       "      <td>1,65</td>\n",
       "      <td>3230.0</td>\n",
       "      <td>Card Drafting, Hand Management, Increase Value...</td>\n",
       "      <td>Family Games</td>\n",
       "    </tr>\n",
       "    <tr>\n",
       "      <th>7528</th>\n",
       "      <td>277700.0</td>\n",
       "      <td>Merchants Cove</td>\n",
       "      <td>2021</td>\n",
       "      <td>1</td>\n",
       "      <td>4</td>\n",
       "      <td>75</td>\n",
       "      <td>14</td>\n",
       "      <td>72</td>\n",
       "      <td>7,91</td>\n",
       "      <td>7530</td>\n",
       "      <td>2,88</td>\n",
       "      <td>241.0</td>\n",
       "      <td>Commodity Speculation, Dice Rolling, Rondel, T...</td>\n",
       "      <td>Simple</td>\n",
       "    </tr>\n",
       "    <tr>\n",
       "      <th>5629</th>\n",
       "      <td>256707.0</td>\n",
       "      <td>Trick Shot</td>\n",
       "      <td>2021</td>\n",
       "      <td>2</td>\n",
       "      <td>4</td>\n",
       "      <td>60</td>\n",
       "      <td>12</td>\n",
       "      <td>121</td>\n",
       "      <td>8,32</td>\n",
       "      <td>5631</td>\n",
       "      <td>2,50</td>\n",
       "      <td>370.0</td>\n",
       "      <td>Card Drafting, Dice Rolling, Grid Movement, Ha...</td>\n",
       "      <td>Simple</td>\n",
       "    </tr>\n",
       "    <tr>\n",
       "      <th>7641</th>\n",
       "      <td>302098.0</td>\n",
       "      <td>Chronicles of Crime: 1900</td>\n",
       "      <td>2021</td>\n",
       "      <td>1</td>\n",
       "      <td>4</td>\n",
       "      <td>90</td>\n",
       "      <td>14</td>\n",
       "      <td>57</td>\n",
       "      <td>8,27</td>\n",
       "      <td>7643</td>\n",
       "      <td>0</td>\n",
       "      <td>2711.0</td>\n",
       "      <td>Cooperative Game, Scenario / Mission / Campaig...</td>\n",
       "      <td>Simple</td>\n",
       "    </tr>\n",
       "    <tr>\n",
       "      <th>...</th>\n",
       "      <td>...</td>\n",
       "      <td>...</td>\n",
       "      <td>...</td>\n",
       "      <td>...</td>\n",
       "      <td>...</td>\n",
       "      <td>...</td>\n",
       "      <td>...</td>\n",
       "      <td>...</td>\n",
       "      <td>...</td>\n",
       "      <td>...</td>\n",
       "      <td>...</td>\n",
       "      <td>...</td>\n",
       "      <td>...</td>\n",
       "      <td>...</td>\n",
       "    </tr>\n",
       "    <tr>\n",
       "      <th>20285</th>\n",
       "      <td>4888.0</td>\n",
       "      <td>Don't Break the Ice</td>\n",
       "      <td>1968</td>\n",
       "      <td>2</td>\n",
       "      <td>4</td>\n",
       "      <td>20</td>\n",
       "      <td>3</td>\n",
       "      <td>1119</td>\n",
       "      <td>4,74</td>\n",
       "      <td>20287</td>\n",
       "      <td>1,10</td>\n",
       "      <td>1522.0</td>\n",
       "      <td>Physical Removal</td>\n",
       "      <td>Children's Games</td>\n",
       "    </tr>\n",
       "    <tr>\n",
       "      <th>16029</th>\n",
       "      <td>13495.0</td>\n",
       "      <td>High Finance</td>\n",
       "      <td>1968</td>\n",
       "      <td>2</td>\n",
       "      <td>6</td>\n",
       "      <td>45</td>\n",
       "      <td>12</td>\n",
       "      <td>54</td>\n",
       "      <td>5,70</td>\n",
       "      <td>16031</td>\n",
       "      <td>1,60</td>\n",
       "      <td>105.0</td>\n",
       "      <td>Card Drafting, Roll / Spin and Move, Stock Hol...</td>\n",
       "      <td>Simple</td>\n",
       "    </tr>\n",
       "    <tr>\n",
       "      <th>10480</th>\n",
       "      <td>17691.0</td>\n",
       "      <td>Djambi</td>\n",
       "      <td>1968</td>\n",
       "      <td>3</td>\n",
       "      <td>4</td>\n",
       "      <td>60</td>\n",
       "      <td>0</td>\n",
       "      <td>59</td>\n",
       "      <td>7,01</td>\n",
       "      <td>10482</td>\n",
       "      <td>3,33</td>\n",
       "      <td>79.0</td>\n",
       "      <td>No hay</td>\n",
       "      <td>Abstract Games</td>\n",
       "    </tr>\n",
       "    <tr>\n",
       "      <th>6958</th>\n",
       "      <td>4934.0</td>\n",
       "      <td>Battling Tops</td>\n",
       "      <td>1968</td>\n",
       "      <td>2</td>\n",
       "      <td>4</td>\n",
       "      <td>45</td>\n",
       "      <td>6</td>\n",
       "      <td>357</td>\n",
       "      <td>6,08</td>\n",
       "      <td>6960</td>\n",
       "      <td>1,21</td>\n",
       "      <td>390.0</td>\n",
       "      <td>No hay</td>\n",
       "      <td>Children's Games, Family Games</td>\n",
       "    </tr>\n",
       "    <tr>\n",
       "      <th>20209</th>\n",
       "      <td>7972.0</td>\n",
       "      <td>Crocodile Pool Party</td>\n",
       "      <td>1968</td>\n",
       "      <td>2</td>\n",
       "      <td>2</td>\n",
       "      <td>30</td>\n",
       "      <td>8</td>\n",
       "      <td>306</td>\n",
       "      <td>4,46</td>\n",
       "      <td>20211</td>\n",
       "      <td>1,30</td>\n",
       "      <td>590.0</td>\n",
       "      <td>Grid Movement</td>\n",
       "      <td>Simple</td>\n",
       "    </tr>\n",
       "  </tbody>\n",
       "</table>\n",
       "<p>19729 rows × 14 columns</p>\n",
       "</div>"
      ],
      "text/plain": [
       "             ID                       Name  Year Published  Min Players  \\\n",
       "8978   286063.0            The 7th Citadel            2022            1   \n",
       "1434   290236.0                     Canvas            2021            1   \n",
       "7528   277700.0             Merchants Cove            2021            1   \n",
       "5629   256707.0                 Trick Shot            2021            2   \n",
       "7641   302098.0  Chronicles of Crime: 1900            2021            1   \n",
       "...         ...                        ...             ...          ...   \n",
       "20285    4888.0        Don't Break the Ice            1968            2   \n",
       "16029   13495.0               High Finance            1968            2   \n",
       "10480   17691.0                     Djambi            1968            3   \n",
       "6958     4934.0              Battling Tops            1968            2   \n",
       "20209    7972.0       Crocodile Pool Party            1968            2   \n",
       "\n",
       "       Max Players  Play Time  Min Age  Users Rated Rating Average  BGG Rank  \\\n",
       "8978             4       1000       14           44           8,27      8980   \n",
       "1434             5         30       14          953           7,81      1435   \n",
       "7528             4         75       14           72           7,91      7530   \n",
       "5629             4         60       12          121           8,32      5631   \n",
       "7641             4         90       14           57           8,27      7643   \n",
       "...            ...        ...      ...          ...            ...       ...   \n",
       "20285            4         20        3         1119           4,74     20287   \n",
       "16029            6         45       12           54           5,70     16031   \n",
       "10480            4         60        0           59           7,01     10482   \n",
       "6958             4         45        6          357           6,08      6960   \n",
       "20209            2         30        8          306           4,46     20211   \n",
       "\n",
       "      Complexity Average  Owned Users  \\\n",
       "8978                   2        383.0   \n",
       "1434                1,65       3230.0   \n",
       "7528                2,88        241.0   \n",
       "5629                2,50        370.0   \n",
       "7641                   0       2711.0   \n",
       "...                  ...          ...   \n",
       "20285               1,10       1522.0   \n",
       "16029               1,60        105.0   \n",
       "10480               3,33         79.0   \n",
       "6958                1,21        390.0   \n",
       "20209               1,30        590.0   \n",
       "\n",
       "                                               Mechanics  \\\n",
       "8978   Cooperative Game, Grid Movement, Hand Manageme...   \n",
       "1434   Card Drafting, Hand Management, Increase Value...   \n",
       "7528   Commodity Speculation, Dice Rolling, Rondel, T...   \n",
       "5629   Card Drafting, Dice Rolling, Grid Movement, Ha...   \n",
       "7641   Cooperative Game, Scenario / Mission / Campaig...   \n",
       "...                                                  ...   \n",
       "20285                                   Physical Removal   \n",
       "16029  Card Drafting, Roll / Spin and Move, Stock Hol...   \n",
       "10480                                             No hay   \n",
       "6958                                              No hay   \n",
       "20209                                      Grid Movement   \n",
       "\n",
       "                              Domains  \n",
       "8978                           Simple  \n",
       "1434                     Family Games  \n",
       "7528                           Simple  \n",
       "5629                           Simple  \n",
       "7641                           Simple  \n",
       "...                               ...  \n",
       "20285                Children's Games  \n",
       "16029                          Simple  \n",
       "10480                  Abstract Games  \n",
       "6958   Children's Games, Family Games  \n",
       "20209                          Simple  \n",
       "\n",
       "[19729 rows x 14 columns]"
      ]
     },
     "execution_count": 168,
     "metadata": {},
     "output_type": "execute_result"
    }
   ],
   "source": [
    "#Quiero los juegos de los ultimos 50 anos para tener mas certeza\n",
    "data_ord = data[data['Year Published'] >= 1968].sort_values(by='Year Published', ascending=False)\n",
    "data_ord"
   ]
  },
  {
   "cell_type": "code",
   "execution_count": 169,
   "metadata": {},
   "outputs": [
    {
     "data": {
      "image/png": "[encoded data removed]",
      "text/plain": [
       "<Figure size 720x360 with 1 Axes>"
      ]
     },
     "metadata": {
      "needs_background": "light"
     },
     "output_type": "display_data"
    }
   ],
   "source": [
    "#Se puede observar que desde al rededor de 1990 empieza a crecer la industria\n",
    "plt.figure(figsize=(10,5))\n",
    "sns.histplot(data_ord['Year Published'])\n",
    "plt.ylabel(\"Cantidad de juegos\")\n",
    "plt.xlabel('Año publicado');"
   ]
  },
  {
   "cell_type": "code",
   "execution_count": 181,
   "metadata": {},
   "outputs": [
    {
     "data": {
      "image/png": "[encoded data removed]",
      "text/plain": [
       "<Figure size 720x360 with 1 Axes>"
      ]
     },
     "metadata": {
      "needs_background": "light"
     },
     "output_type": "display_data"
    }
   ],
   "source": [
    "plt.figure(figsize=(10,5))\n",
    "sns.lineplot(x=data_ord['Year Published'],y=data_ord['Owned Users'])\n",
    "plt.xlabel(\"Año\")\n",
    "plt.ylabel(\"Usuarios\");"
   ]
  },
  {
   "cell_type": "code",
   "execution_count": null,
   "metadata": {},
   "outputs": [],
   "source": [
    "#He dividir los tipos juegos para poder saber con mas precision cuantos usuarios tiene cada juego\n",
    "#para ello limpira los datos separando los cada uno\n",
    "def arreglar(data):\n",
    "    values=[]\n",
    "    for i in data:\n",
    "        i = i.replace(\",\",\".\")\n",
    "        values.append(i)\n",
    "    return values\n",
    "\n",
    "data_ord['Rating Average']=  pd.to_numeric(arreglar(data_ord['Rating Average']))\n",
    "\n",
    "#una vez eliminado los simbolos especiales \n",
    "#los separamos\n",
    "def sep(df):\n",
    "    corpus= []\n",
    "    for i in df:\n",
    "        item = i.split(\",\")\n",
    "        corpus += item\n",
    "    return corpus\n",
    "\n",
    "def sepe(df):\n",
    "    vals=[]\n",
    "    for i in df:\n",
    "        m = i.lstrip()\n",
    "        vals.append(m)\n",
    "    return vals\n",
    "\n",
    "\n"
   ]
  },
  {
   "cell_type": "code",
   "execution_count": null,
   "metadata": {},
   "outputs": [
    {
     "data": {
      "application/vnd.plotly.v1+json": {
       "config": {
        "plotlyServerURL": "https://plot.ly"
       },
       "data": [
        {
         "hovertemplate": "Domains=Simple<br>Year Published=%{x}<br>Rating Average=%{y}<extra></extra>",
         "legendgroup": "Simple",
         "marker": {
          "color": "#636efa",
          "symbol": "circle"
         },
         "mode": "markers",
         "name": "Simple",
         "orientation": "v",
         "showlegend": true,
         "type": "scatter",
         "x": [
          2022,
          2021,
          2021,
          2021,
          2021,
          2021,
          2021,
          2021,
          2021,
          2021,
          2021,
          2021,
          2021,
          2021,
          2021,
          2021,
          2021,
          2021,
          2021,
          2021,
          2021,
          2021,
          2021,
          2021,
          2021,
          2021,
          2021,
          2021,
          2021,
          2021,
          2021,
          2021,
          2021,
          2021,
          2021,
          2021,
          2021,
          2021,
          2021,
          2021,
          2021,
          2021,
          2021,
          2021,
          2021,
          2021,
          2021,
          2021,
          2021,
          2021,
          2021,
          2021,
          2021,
          2021,
          2021,
          2020,
          2020,
          2020,
          2020,
          2020,
          2020,
          2020,
          2020,
          2020,
          2020,
          2020,
          2020,
          2020,
          2020,
          2020,
          2020,
          2020,
          2020,
          2020,
          2020,
          2020,
          2020,
          2020,
          2020,
          2020,
          2020,
          2020,
          2020,
          2020,
          2020,
          2020,
          2020,
          2020,
          2020,
          2020,
          2020,
          2020,
          2020,
          2020,
          2020,
          2020,
          2020,
          2020,
          2020,
          2020,
          2020,
          2020,
          2020,
          2020,
          2020,
          2020,
          2020,
          2020,
          2020,
          2020,
          2020,
          2020,
          2020,
          2020,
          2020,
          2020,
          2020,
          2020,
          2020,
          2020,
          2020,
          2020,
          2020,
          2020,
          2020,
          2020,
          2020,
          2020,
          2020,
          2020,
          2020,
          2020,
          2020,
          2020,
          2019,
          2019,
          2019,
          2019,
          2019,
          2019,
          2019,
          2019,
          2019,
          2019,
          2019,
          2019,
          2019,
          2019,
          2019,
          2019,
          2019,
          2019,
          2019,
          2019,
          2019,
          2019,
          2019,
          2019,
          2019,
          2019,
          2019,
          2019,
          2019,
          2019,
          2019,
          2019,
          2019,
          2019,
          2019,
          2019,
          2019,
          2019,
          2019,
          2019,
          2019,
          2019,
          2019,
          2019,
          2019,
          2019,
          2019,
          2019,
          2019,
          2019,
          2019,
          2018,
          2018,
          2018,
          2018,
          2018,
          2018,
          2018,
          2018,
          2018,
          2018,
          2018,
          2018,
          2018,
          2018,
          2018,
          2018,
          2018,
          2018,
          2018,
          2018,
          2018,
          2018,
          2018,
          2018,
          2018,
          2018,
          2018,
          2018,
          2018,
          2018,
          2018,
          2018,
          2018,
          2018,
          2018,
          2018,
          2018,
          2018,
          2018,
          2018,
          2018,
          2018,
          2018,
          2018,
          2018,
          2018,
          2018,
          2018,
          2018,
          2018,
          2018,
          2018,
          2017,
          2017,
          2017,
          2017,
          2017,
          2017,
          2017,
          2017,
          2017,
          2017,
          2017,
          2017,
          2017,
          2017,
          2017,
          2017,
          2017,
          2017,
          2017,
          2017,
          2017,
          2017,
          2017,
          2017,
          2017,
          2017,
          2017,
          2017,
          2017,
          2016,
          2016,
          2016,
          2016,
          2016,
          2016,
          2016,
          2016,
          2016,
          2016,
          2016,
          2016,
          2016,
          2016,
          2016,
          2016,
          2016,
          2015,
          2015,
          2015,
          2015,
          2015,
          2015,
          2015,
          2014,
          2014,
          2014,
          2014,
          2014,
          2014,
          2014,
          2013,
          2013,
          2013,
          2013,
          2013,
          2013,
          2013,
          2013,
          2013,
          2012,
          2012,
          2012,
          2012,
          2011,
          2011,
          2011,
          2011,
          2010,
          2010,
          2009,
          2008,
          2008,
          2006,
          2005,
          2005,
          2004,
          2003,
          2000,
          2000,
          1999,
          1986,
          1985,
          1979,
          1974,
          1971
         ],
         "xaxis": "x",
         "y": [
          8.27,
          8.32,
          8.27,
          8.18,
          8.22,
          8.79,
          8.06,
          8.22,
          8.81,
          8.62,
          9.04,
          9.46,
          8.27,
          8.67,
          8.03,
          8.41,
          8.69,
          8.41,
          8.43,
          8.14,
          8.08,
          8.63,
          8.94,
          8.09,
          8.47,
          9.23,
          8.29,
          8.36,
          8.27,
          8.42,
          8.15,
          8.5,
          8.16,
          8.44,
          8.53,
          8.22,
          8.7,
          8.51,
          8.16,
          8.38,
          9.24,
          8.01,
          8.22,
          8.48,
          8.81,
          9.07,
          8.51,
          8.15,
          9.54,
          8.29,
          8.73,
          8.13,
          9.1,
          8.8,
          8.78,
          9.43,
          8.74,
          8.57,
          8.71,
          8.25,
          8.5,
          9.18,
          8.61,
          8.48,
          8.3,
          8.39,
          8.16,
          8.88,
          9.19,
          8.68,
          8.54,
          8.41,
          9.07,
          9.25,
          8.59,
          8.04,
          9.19,
          8.42,
          8.31,
          8.65,
          8.18,
          8.09,
          8.63,
          8.03,
          8.59,
          8.5,
          8.03,
          8.04,
          8.23,
          8.21,
          8.02,
          8.14,
          8.01,
          8.38,
          8.08,
          8.04,
          8.55,
          8.15,
          8.8,
          8.04,
          8.23,
          8.2,
          8.2,
          8.1,
          8.1,
          8.36,
          8.34,
          8.89,
          8.15,
          8.12,
          8.23,
          8.42,
          8.22,
          8.08,
          8.77,
          8.72,
          8.88,
          8.21,
          8.82,
          8.71,
          8.13,
          8.52,
          8.18,
          8.81,
          8.09,
          8.34,
          8.79,
          8.71,
          8.16,
          8.32,
          9.11,
          8.1,
          8.05,
          9.16,
          8.23,
          8.22,
          8.09,
          8.55,
          8.11,
          8.36,
          8.7,
          8.51,
          8.26,
          8.63,
          8.51,
          8.1,
          8.61,
          8.12,
          8.39,
          8.41,
          8.13,
          8.01,
          8.27,
          8.8,
          8.05,
          8.03,
          8.89,
          8.05,
          8.28,
          8.37,
          8.99,
          8.67,
          8.75,
          8.44,
          8.15,
          8.64,
          9.14,
          8.39,
          8.14,
          8.06,
          8.33,
          8.34,
          8.15,
          8.76,
          9.18,
          8.24,
          8.68,
          8.62,
          8.13,
          8.87,
          8.87,
          8.55,
          8.56,
          8.02,
          8.51,
          8.37,
          8.3,
          8.54,
          8.02,
          8.48,
          8.36,
          8.25,
          8.14,
          8.01,
          8.18,
          8.9,
          8.14,
          8.14,
          8.33,
          8.41,
          8.59,
          8.69,
          8.23,
          8.23,
          8.3,
          8.45,
          8.11,
          8.19,
          8.61,
          8.09,
          8.05,
          8.65,
          8.36,
          8.32,
          8.01,
          8.25,
          8.46,
          8.25,
          9.04,
          8.73,
          8.06,
          8.4,
          8.9,
          8.5,
          8.03,
          8.01,
          8.32,
          8.69,
          8.43,
          8.57,
          8.49,
          8.01,
          8.74,
          8.26,
          8.75,
          8.08,
          8.26,
          8.49,
          9.43,
          8.25,
          8.42,
          8.44,
          8.76,
          8.1,
          8.2,
          8.57,
          8.03,
          8.11,
          8.33,
          8.37,
          8.1,
          8.24,
          8.2,
          8.06,
          8.26,
          8.92,
          9.13,
          8.07,
          8.69,
          8.06,
          8.81,
          8.44,
          8.1,
          8.06,
          8.58,
          8.02,
          8.02,
          8.63,
          8.67,
          8.57,
          8.04,
          8.24,
          8.38,
          8.59,
          8.07,
          8.02,
          8.1,
          8.65,
          8.82,
          8.21,
          8.32,
          8.12,
          8.03,
          8.13,
          8.3,
          8.04,
          8.09,
          8.63,
          9.06,
          8.1,
          9.1,
          8.54,
          8.27,
          8.36,
          8.1,
          8.01,
          8.33,
          8.06,
          8.36,
          8.33,
          8.24,
          8.8,
          8.04,
          8.34,
          8.19,
          8.33,
          8.4,
          8.02,
          8.54,
          8.39,
          8.03,
          8.49,
          8.05,
          8.3,
          8.03,
          8.13,
          8.01,
          8.23,
          8.28,
          8.49,
          8.8,
          8.32,
          8.13,
          8.27,
          8.62,
          8.25,
          8.14,
          8.19,
          8.39,
          8.42,
          8.8,
          8.08
         ],
         "yaxis": "y"
        },
        {
         "hovertemplate": "Domains=Strategy Games<br>Year Published=%{x}<br>Rating Average=%{y}<extra></extra>",
         "legendgroup": "Strategy Games",
         "marker": {
          "color": "#EF553B",
          "symbol": "circle"
         },
         "mode": "markers",
         "name": "Strategy Games",
         "orientation": "v",
         "showlegend": true,
         "type": "scatter",
         "x": [
          2021,
          2021,
          2021,
          2020,
          2020,
          2020,
          2020,
          2020,
          2020,
          2020,
          2020,
          2020,
          2020,
          2020,
          2020,
          2020,
          2020,
          2020,
          2020,
          2020,
          2020,
          2020,
          2019,
          2019,
          2019,
          2019,
          2019,
          2019,
          2019,
          2019,
          2019,
          2019,
          2019,
          2019,
          2018,
          2018,
          2018,
          2018,
          2018,
          2018,
          2018,
          2017,
          2017,
          2017,
          2017,
          2017,
          2017,
          2017,
          2016,
          2016,
          2016,
          2016,
          2016,
          2016,
          2016,
          2016,
          2016,
          2016,
          2015,
          2015,
          2015,
          2015,
          2015,
          2015,
          2015,
          2014,
          2014,
          2014,
          2014,
          2013,
          2013,
          2013,
          2012,
          2011,
          2010,
          2010,
          2007,
          2007,
          2004,
          2003,
          1998
         ],
         "xaxis": "x",
         "y": [
          8.02,
          8.23,
          8.14,
          8.22,
          8.06,
          8.08,
          8.33,
          8.82,
          8.13,
          8.09,
          8.25,
          8.19,
          8.03,
          8.29,
          8.47,
          8.14,
          8.8,
          8.25,
          8.3,
          8.83,
          8.52,
          8.16,
          8.03,
          8.08,
          8.03,
          8.22,
          8.15,
          8.17,
          8.29,
          8.43,
          8.07,
          8.22,
          8.75,
          8.02,
          8.02,
          8.9,
          8.17,
          8.02,
          8.66,
          8.13,
          8.36,
          8.41,
          8.35,
          8.49,
          8.1,
          8.01,
          8.18,
          8.46,
          8.31,
          8.2,
          8.24,
          8.34,
          8.02,
          8.44,
          8.21,
          8.04,
          8.43,
          8.3,
          8.14,
          8.25,
          8.11,
          8.04,
          8.08,
          8.04,
          8.43,
          8.09,
          8.01,
          8.09,
          8.13,
          8.12,
          8.36,
          8.02,
          8.14,
          8.13,
          8.75,
          8.2,
          8.17,
          8.29,
          8.04,
          8.39,
          8.29
         ],
         "yaxis": "y"
        },
        {
         "hovertemplate": "Domains=Wargames<br>Year Published=%{x}<br>Rating Average=%{y}<extra></extra>",
         "legendgroup": "Wargames",
         "marker": {
          "color": "#00cc96",
          "symbol": "circle"
         },
         "mode": "markers",
         "name": "Wargames",
         "orientation": "v",
         "showlegend": true,
         "type": "scatter",
         "x": [
          2021,
          2020,
          2020,
          2020,
          2020,
          2020,
          2020,
          2020,
          2020,
          2020,
          2020,
          2020,
          2020,
          2020,
          2020,
          2020,
          2020,
          2020,
          2020,
          2020,
          2020,
          2020,
          2020,
          2020,
          2020,
          2019,
          2019,
          2019,
          2019,
          2019,
          2019,
          2019,
          2019,
          2019,
          2019,
          2019,
          2019,
          2019,
          2019,
          2019,
          2019,
          2019,
          2019,
          2019,
          2019,
          2019,
          2019,
          2019,
          2019,
          2019,
          2019,
          2019,
          2019,
          2019,
          2019,
          2019,
          2018,
          2018,
          2018,
          2018,
          2018,
          2018,
          2018,
          2018,
          2018,
          2018,
          2018,
          2018,
          2018,
          2018,
          2018,
          2018,
          2018,
          2018,
          2018,
          2018,
          2018,
          2018,
          2018,
          2018,
          2018,
          2017,
          2017,
          2017,
          2017,
          2017,
          2017,
          2017,
          2017,
          2017,
          2017,
          2017,
          2017,
          2017,
          2017,
          2017,
          2017,
          2017,
          2017,
          2017,
          2017,
          2017,
          2017,
          2017,
          2017,
          2017,
          2017,
          2016,
          2016,
          2016,
          2016,
          2016,
          2016,
          2016,
          2016,
          2016,
          2016,
          2016,
          2016,
          2016,
          2016,
          2016,
          2016,
          2016,
          2016,
          2016,
          2016,
          2016,
          2016,
          2015,
          2015,
          2015,
          2015,
          2015,
          2015,
          2015,
          2015,
          2015,
          2015,
          2015,
          2015,
          2015,
          2015,
          2015,
          2015,
          2015,
          2015,
          2015,
          2015,
          2015,
          2014,
          2014,
          2014,
          2014,
          2014,
          2014,
          2014,
          2014,
          2014,
          2014,
          2014,
          2014,
          2014,
          2014,
          2014,
          2013,
          2013,
          2013,
          2013,
          2013,
          2013,
          2013,
          2013,
          2013,
          2013,
          2013,
          2013,
          2012,
          2012,
          2012,
          2012,
          2012,
          2012,
          2012,
          2012,
          2012,
          2011,
          2011,
          2011,
          2011,
          2011,
          2011,
          2011,
          2011,
          2011,
          2010,
          2010,
          2010,
          2010,
          2009,
          2009,
          2009,
          2008,
          2008,
          2008,
          2008,
          2008,
          2007,
          2007,
          2006,
          2006,
          2006,
          2006,
          2005,
          2005,
          2004,
          2004,
          2004,
          2004,
          2003,
          2003,
          2003,
          2003,
          2002,
          2002,
          2001,
          2000,
          1999,
          1998,
          1997,
          1997,
          1997,
          1995,
          1988,
          1980,
          1980
         ],
         "xaxis": "x",
         "y": [
          8.19,
          8.6,
          8.08,
          9.34,
          8.45,
          8.28,
          8.09,
          8.16,
          8.1,
          8.43,
          8.58,
          8.25,
          8.4,
          8.23,
          8.28,
          8.23,
          8.54,
          8.15,
          8.58,
          8.17,
          8.99,
          8.13,
          8.46,
          8.54,
          8.37,
          9.31,
          8.32,
          8.22,
          8.55,
          8.69,
          8.24,
          8.22,
          8.23,
          8.29,
          8.2,
          8.73,
          8.35,
          8.35,
          8.33,
          8.24,
          8.71,
          8.44,
          8.55,
          8.67,
          8.69,
          8.18,
          8.27,
          8.15,
          8.15,
          8.48,
          8.85,
          8.52,
          8.57,
          8.44,
          8.47,
          8.42,
          8.68,
          8.3,
          9.12,
          8.35,
          8.13,
          8.39,
          8.3,
          8.24,
          8.51,
          8.3,
          8.71,
          8.49,
          8.58,
          8.1,
          8.94,
          8.13,
          8.17,
          8.52,
          8.65,
          8.37,
          8.07,
          8.37,
          8.05,
          8.37,
          8.13,
          8.35,
          8.03,
          8.19,
          8.16,
          8.52,
          8.13,
          8.1,
          8.51,
          8.11,
          8.44,
          8.37,
          8.06,
          8.23,
          8.09,
          8.45,
          8.1,
          8.06,
          8.26,
          8.2,
          8.09,
          8.41,
          8.61,
          8.02,
          8.35,
          8.09,
          8.15,
          8.49,
          8.06,
          8.69,
          8.04,
          8.16,
          8.12,
          8.34,
          8.16,
          8.13,
          8.19,
          8.43,
          8.26,
          8.15,
          8.05,
          8.05,
          8.23,
          8.19,
          8.13,
          8.15,
          8.48,
          8.05,
          8.49,
          8.76,
          8.23,
          8.02,
          8.26,
          8.22,
          8.19,
          8.66,
          8.95,
          8.18,
          8.15,
          8.66,
          8.27,
          8.25,
          8.29,
          8.08,
          8.05,
          8.08,
          8.26,
          8.39,
          8.27,
          8.7,
          8.08,
          8.78,
          8.09,
          8.37,
          8.06,
          8.38,
          8.21,
          8.07,
          8.48,
          8.03,
          8.3,
          8.67,
          8.03,
          8.55,
          8.18,
          8.32,
          8.06,
          8.27,
          8.61,
          8.01,
          8.04,
          8.16,
          8.51,
          9.14,
          8.06,
          8.57,
          8.05,
          8.05,
          8.01,
          8.02,
          8.68,
          8.01,
          8.05,
          8.03,
          8.16,
          8.02,
          8.35,
          8.05,
          8.12,
          8.33,
          9.05,
          8.29,
          8.28,
          8.58,
          8.04,
          8.05,
          8.14,
          8.12,
          8.1,
          8.26,
          8.09,
          8.1,
          8.23,
          8.09,
          8.37,
          8.21,
          8.2,
          8.26,
          8.02,
          8.05,
          8.34,
          8.14,
          8.08,
          8.17,
          8.1,
          8.59,
          8.31,
          8.29,
          8.14,
          8.03,
          8.08,
          8.21,
          8.45,
          8.06,
          8.13,
          8.14,
          8.01,
          8.06,
          8.02,
          8.02,
          8.18,
          8.02,
          8.21,
          8.07,
          8.65,
          8.25
         ],
         "yaxis": "y"
        },
        {
         "hovertemplate": "Domains=Thematic Games<br>Year Published=%{x}<br>Rating Average=%{y}<extra></extra>",
         "legendgroup": "Thematic Games",
         "marker": {
          "color": "#ab63fa",
          "symbol": "circle"
         },
         "mode": "markers",
         "name": "Thematic Games",
         "orientation": "v",
         "showlegend": true,
         "type": "scatter",
         "x": [
          2021,
          2021,
          2020,
          2020,
          2020,
          2020,
          2020,
          2020,
          2020,
          2020,
          2019,
          2019,
          2019,
          2019,
          2019,
          2019,
          2019,
          2019,
          2019,
          2019,
          2019,
          2019,
          2019,
          2019,
          2018,
          2018,
          2018,
          2018,
          2017,
          2017,
          2017,
          2017,
          2017,
          2017,
          2017,
          2016,
          2016,
          2016,
          2016,
          2016,
          2015,
          2014,
          2014,
          2014,
          2013,
          2012,
          2011
         ],
         "xaxis": "x",
         "y": [
          8.79,
          8.12,
          8.05,
          8.2,
          8.21,
          8.15,
          8.2,
          8.02,
          8.22,
          8.09,
          8.69,
          8.99,
          8.93,
          8.99,
          8.05,
          8.09,
          8.16,
          8.16,
          8.08,
          8.41,
          8.79,
          8.6,
          8.11,
          8.02,
          8.45,
          8.02,
          8.25,
          8.4,
          8.4,
          8.57,
          8.15,
          8.26,
          8.27,
          8.04,
          8.02,
          8.07,
          8.42,
          8.33,
          8.06,
          8.22,
          8.66,
          8.26,
          8.02,
          8.04,
          8.34,
          8.32,
          8.06
         ],
         "yaxis": "y"
        },
        {
         "hovertemplate": "Domains=Strategy Games, Wargames<br>Year Published=%{x}<br>Rating Average=%{y}<extra></extra>",
         "legendgroup": "Strategy Games, Wargames",
         "marker": {
          "color": "#FFA15A",
          "symbol": "circle"
         },
         "mode": "markers",
         "name": "Strategy Games, Wargames",
         "orientation": "v",
         "showlegend": true,
         "type": "scatter",
         "x": [
          2021,
          2021,
          2020,
          2020,
          2019,
          2019,
          2018,
          2018,
          2012,
          2009,
          2005
         ],
         "xaxis": "x",
         "y": [
          8.98,
          8.49,
          8.24,
          8.38,
          8.33,
          8.52,
          8.17,
          8.1,
          8.05,
          9.23,
          8.29
         ],
         "yaxis": "y"
        },
        {
         "hovertemplate": "Domains=Abstract Games<br>Year Published=%{x}<br>Rating Average=%{y}<extra></extra>",
         "legendgroup": "Abstract Games",
         "marker": {
          "color": "#19d3f3",
          "symbol": "circle"
         },
         "mode": "markers",
         "name": "Abstract Games",
         "orientation": "v",
         "showlegend": true,
         "type": "scatter",
         "x": [
          2021,
          2020,
          2015,
          2012,
          2012,
          2010,
          2005
         ],
         "xaxis": "x",
         "y": [
          8.52,
          8.36,
          8.88,
          8.02,
          8.06,
          8.05,
          8.78
         ],
         "yaxis": "y"
        },
        {
         "hovertemplate": "Domains=Strategy Games, Thematic Games<br>Year Published=%{x}<br>Rating Average=%{y}<extra></extra>",
         "legendgroup": "Strategy Games, Thematic Games",
         "marker": {
          "color": "#FF6692",
          "symbol": "circle"
         },
         "mode": "markers",
         "name": "Strategy Games, Thematic Games",
         "orientation": "v",
         "showlegend": true,
         "type": "scatter",
         "x": [
          2021,
          2020,
          2020,
          2020,
          2020,
          2020,
          2019,
          2019,
          2019,
          2018,
          2018,
          2017,
          2017,
          2017,
          2017,
          2017,
          2016,
          2016,
          2015,
          2013,
          2011
         ],
         "xaxis": "x",
         "y": [
          8.28,
          8.45,
          8.13,
          8.8,
          8.26,
          8.87,
          8.41,
          8.22,
          8.16,
          8.78,
          8.25,
          8.79,
          8.15,
          8.28,
          8.7,
          8.45,
          8.05,
          8.04,
          8.61,
          8.12,
          8.1
         ],
         "yaxis": "y"
        },
        {
         "hovertemplate": "Domains=Customizable Games, Strategy Games<br>Year Published=%{x}<br>Rating Average=%{y}<extra></extra>",
         "legendgroup": "Customizable Games, Strategy Games",
         "marker": {
          "color": "#B6E880",
          "symbol": "circle"
         },
         "mode": "markers",
         "name": "Customizable Games, Strategy Games",
         "orientation": "v",
         "showlegend": true,
         "type": "scatter",
         "x": [
          2020,
          2020,
          2017,
          2016
         ],
         "xaxis": "x",
         "y": [
          8.27,
          8.53,
          8.36,
          8.06
         ],
         "yaxis": "y"
        },
        {
         "hovertemplate": "Domains=Family Games, Strategy Games<br>Year Published=%{x}<br>Rating Average=%{y}<extra></extra>",
         "legendgroup": "Family Games, Strategy Games",
         "marker": {
          "color": "#FF97FF",
          "symbol": "circle"
         },
         "mode": "markers",
         "name": "Family Games, Strategy Games",
         "orientation": "v",
         "showlegend": true,
         "type": "scatter",
         "x": [
          2020,
          2019,
          2019,
          2019,
          2018
         ],
         "xaxis": "x",
         "y": [
          8.02,
          8.04,
          8.02,
          8.11,
          8.08
         ],
         "yaxis": "y"
        },
        {
         "hovertemplate": "Domains=Thematic Games, Wargames<br>Year Published=%{x}<br>Rating Average=%{y}<extra></extra>",
         "legendgroup": "Thematic Games, Wargames",
         "marker": {
          "color": "#FECB52",
          "symbol": "circle"
         },
         "mode": "markers",
         "name": "Thematic Games, Wargames",
         "orientation": "v",
         "showlegend": true,
         "type": "scatter",
         "x": [
          2019,
          2019,
          2019,
          2018,
          2018,
          2017,
          2015,
          2014,
          2014,
          2012,
          2012,
          2009,
          2003
         ],
         "xaxis": "x",
         "y": [
          8.36,
          8.24,
          8.11,
          8.73,
          8.25,
          8.16,
          8.18,
          8.1,
          8.3,
          8.49,
          8.31,
          8.24,
          8.06
         ],
         "yaxis": "y"
        },
        {
         "hovertemplate": "Domains=Family Games<br>Year Published=%{x}<br>Rating Average=%{y}<extra></extra>",
         "legendgroup": "Family Games",
         "marker": {
          "color": "#636efa",
          "symbol": "circle"
         },
         "mode": "markers",
         "name": "Family Games",
         "orientation": "v",
         "showlegend": true,
         "type": "scatter",
         "x": [
          2019,
          2018,
          2018
         ],
         "xaxis": "x",
         "y": [
          8.02,
          8.19,
          8.44
         ],
         "yaxis": "y"
        },
        {
         "hovertemplate": "Domains=Customizable Games<br>Year Published=%{x}<br>Rating Average=%{y}<extra></extra>",
         "legendgroup": "Customizable Games",
         "marker": {
          "color": "#EF553B",
          "symbol": "circle"
         },
         "mode": "markers",
         "name": "Customizable Games",
         "orientation": "v",
         "showlegend": true,
         "type": "scatter",
         "x": [
          2019,
          2014
         ],
         "xaxis": "x",
         "y": [
          8.2,
          8.11
         ],
         "yaxis": "y"
        },
        {
         "hovertemplate": "Domains=Customizable Games, Wargames<br>Year Published=%{x}<br>Rating Average=%{y}<extra></extra>",
         "legendgroup": "Customizable Games, Wargames",
         "marker": {
          "color": "#00cc96",
          "symbol": "circle"
         },
         "mode": "markers",
         "name": "Customizable Games, Wargames",
         "orientation": "v",
         "showlegend": true,
         "type": "scatter",
         "x": [
          2018,
          2018
         ],
         "xaxis": "x",
         "y": [
          8.02,
          8.29
         ],
         "yaxis": "y"
        },
        {
         "hovertemplate": "Domains=Customizable Games, Thematic Games<br>Year Published=%{x}<br>Rating Average=%{y}<extra></extra>",
         "legendgroup": "Customizable Games, Thematic Games",
         "marker": {
          "color": "#ab63fa",
          "symbol": "circle"
         },
         "mode": "markers",
         "name": "Customizable Games, Thematic Games",
         "orientation": "v",
         "showlegend": true,
         "type": "scatter",
         "x": [
          2016
         ],
         "xaxis": "x",
         "y": [
          8.17
         ],
         "yaxis": "y"
        },
        {
         "hovertemplate": "Domains=Children's Games<br>Year Published=%{x}<br>Rating Average=%{y}<extra></extra>",
         "legendgroup": "Children's Games",
         "marker": {
          "color": "#FFA15A",
          "symbol": "circle"
         },
         "mode": "markers",
         "name": "Children's Games",
         "orientation": "v",
         "showlegend": true,
         "type": "scatter",
         "x": [
          2005
         ],
         "xaxis": "x",
         "y": [
          8.68
         ],
         "yaxis": "y"
        }
       ],
       "layout": {
        "legend": {
         "title": {
          "text": "Domains"
         },
         "tracegroupgap": 0
        },
        "margin": {
         "t": 60
        },
        "template": {
         "data": {
          "bar": [
           {
            "error_x": {
             "color": "#2a3f5f"
            },
            "error_y": {
             "color": "#2a3f5f"
            },
            "marker": {
             "line": {
              "color": "#E5ECF6",
              "width": 0.5
             },
             "pattern": {
              "fillmode": "overlay",
              "size": 10,
              "solidity": 0.2
             }
            },
            "type": "bar"
           }
          ],
          "barpolar": [
           {
            "marker": {
             "line": {
              "color": "#E5ECF6",
              "width": 0.5
             },
             "pattern": {
              "fillmode": "overlay",
              "size": 10,
              "solidity": 0.2
             }
            },
            "type": "barpolar"
           }
          ],
          "carpet": [
           {
            "aaxis": {
             "endlinecolor": "#2a3f5f",
             "gridcolor": "white",
             "linecolor": "white",
             "minorgridcolor": "white",
             "startlinecolor": "#2a3f5f"
            },
            "baxis": {
             "endlinecolor": "#2a3f5f",
             "gridcolor": "white",
             "linecolor": "white",
             "minorgridcolor": "white",
             "startlinecolor": "#2a3f5f"
            },
            "type": "carpet"
           }
          ],
          "choropleth": [
           {
            "colorbar": {
             "outlinewidth": 0,
             "ticks": ""
            },
            "type": "choropleth"
           }
          ],
          "contour": [
           {
            "colorbar": {
             "outlinewidth": 0,
             "ticks": ""
            },
            "colorscale": [
             [
              0,
              "#0d0887"
             ],
             [
              0.1111111111111111,
              "#46039f"
             ],
             [
              0.2222222222222222,
              "#7201a8"
             ],
             [
              0.3333333333333333,
              "#9c179e"
             ],
             [
              0.4444444444444444,
              "#bd3786"
             ],
             [
              0.5555555555555556,
              "#d8576b"
             ],
             [
              0.6666666666666666,
              "#ed7953"
             ],
             [
              0.7777777777777778,
              "#fb9f3a"
             ],
             [
              0.8888888888888888,
              "#fdca26"
             ],
             [
              1,
              "#f0f921"
             ]
            ],
            "type": "contour"
           }
          ],
          "contourcarpet": [
           {
            "colorbar": {
             "outlinewidth": 0,
             "ticks": ""
            },
            "type": "contourcarpet"
           }
          ],
          "heatmap": [
           {
            "colorbar": {
             "outlinewidth": 0,
             "ticks": ""
            },
            "colorscale": [
             [
              0,
              "#0d0887"
             ],
             [
              0.1111111111111111,
              "#46039f"
             ],
             [
              0.2222222222222222,
              "#7201a8"
             ],
             [
              0.3333333333333333,
              "#9c179e"
             ],
             [
              0.4444444444444444,
              "#bd3786"
             ],
             [
              0.5555555555555556,
              "#d8576b"
             ],
             [
              0.6666666666666666,
              "#ed7953"
             ],
             [
              0.7777777777777778,
              "#fb9f3a"
             ],
             [
              0.8888888888888888,
              "#fdca26"
             ],
             [
              1,
              "#f0f921"
             ]
            ],
            "type": "heatmap"
           }
          ],
          "heatmapgl": [
           {
            "colorbar": {
             "outlinewidth": 0,
             "ticks": ""
            },
            "colorscale": [
             [
              0,
              "#0d0887"
             ],
             [
              0.1111111111111111,
              "#46039f"
             ],
             [
              0.2222222222222222,
              "#7201a8"
             ],
             [
              0.3333333333333333,
              "#9c179e"
             ],
             [
              0.4444444444444444,
              "#bd3786"
             ],
             [
              0.5555555555555556,
              "#d8576b"
             ],
             [
              0.6666666666666666,
              "#ed7953"
             ],
             [
              0.7777777777777778,
              "#fb9f3a"
             ],
             [
              0.8888888888888888,
              "#fdca26"
             ],
             [
              1,
              "#f0f921"
             ]
            ],
            "type": "heatmapgl"
           }
          ],
          "histogram": [
           {
            "marker": {
             "pattern": {
              "fillmode": "overlay",
              "size": 10,
              "solidity": 0.2
             }
            },
            "type": "histogram"
           }
          ],
          "histogram2d": [
           {
            "colorbar": {
             "outlinewidth": 0,
             "ticks": ""
            },
            "colorscale": [
             [
              0,
              "#0d0887"
             ],
             [
              0.1111111111111111,
              "#46039f"
             ],
             [
              0.2222222222222222,
              "#7201a8"
             ],
             [
              0.3333333333333333,
              "#9c179e"
             ],
             [
              0.4444444444444444,
              "#bd3786"
             ],
             [
              0.5555555555555556,
              "#d8576b"
             ],
             [
              0.6666666666666666,
              "#ed7953"
             ],
             [
              0.7777777777777778,
              "#fb9f3a"
             ],
             [
              0.8888888888888888,
              "#fdca26"
             ],
             [
              1,
              "#f0f921"
             ]
            ],
            "type": "histogram2d"
           }
          ],
          "histogram2dcontour": [
           {
            "colorbar": {
             "outlinewidth": 0,
             "ticks": ""
            },
            "colorscale": [
             [
              0,
              "#0d0887"
             ],
             [
              0.1111111111111111,
              "#46039f"
             ],
             [
              0.2222222222222222,
              "#7201a8"
             ],
             [
              0.3333333333333333,
              "#9c179e"
             ],
             [
              0.4444444444444444,
              "#bd3786"
             ],
             [
              0.5555555555555556,
              "#d8576b"
             ],
             [
              0.6666666666666666,
              "#ed7953"
             ],
             [
              0.7777777777777778,
              "#fb9f3a"
             ],
             [
              0.8888888888888888,
              "#fdca26"
             ],
             [
              1,
              "#f0f921"
             ]
            ],
            "type": "histogram2dcontour"
           }
          ],
          "mesh3d": [
           {
            "colorbar": {
             "outlinewidth": 0,
             "ticks": ""
            },
            "type": "mesh3d"
           }
          ],
          "parcoords": [
           {
            "line": {
             "colorbar": {
              "outlinewidth": 0,
              "ticks": ""
             }
            },
            "type": "parcoords"
           }
          ],
          "pie": [
           {
            "automargin": true,
            "type": "pie"
           }
          ],
          "scatter": [
           {
            "fillpattern": {
             "fillmode": "overlay",
             "size": 10,
             "solidity": 0.2
            },
            "type": "scatter"
           }
          ],
          "scatter3d": [
           {
            "line": {
             "colorbar": {
              "outlinewidth": 0,
              "ticks": ""
             }
            },
            "marker": {
             "colorbar": {
              "outlinewidth": 0,
              "ticks": ""
             }
            },
            "type": "scatter3d"
           }
          ],
          "scattercarpet": [
           {
            "marker": {
             "colorbar": {
              "outlinewidth": 0,
              "ticks": ""
             }
            },
            "type": "scattercarpet"
           }
          ],
          "scattergeo": [
           {
            "marker": {
             "colorbar": {
              "outlinewidth": 0,
              "ticks": ""
             }
            },
            "type": "scattergeo"
           }
          ],
          "scattergl": [
           {
            "marker": {
             "colorbar": {
              "outlinewidth": 0,
              "ticks": ""
             }
            },
            "type": "scattergl"
           }
          ],
          "scattermapbox": [
           {
            "marker": {
             "colorbar": {
              "outlinewidth": 0,
              "ticks": ""
             }
            },
            "type": "scattermapbox"
           }
          ],
          "scatterpolar": [
           {
            "marker": {
             "colorbar": {
              "outlinewidth": 0,
              "ticks": ""
             }
            },
            "type": "scatterpolar"
           }
          ],
          "scatterpolargl": [
           {
            "marker": {
             "colorbar": {
              "outlinewidth": 0,
              "ticks": ""
             }
            },
            "type": "scatterpolargl"
           }
          ],
          "scatterternary": [
           {
            "marker": {
             "colorbar": {
              "outlinewidth": 0,
              "ticks": ""
             }
            },
            "type": "scatterternary"
           }
          ],
          "surface": [
           {
            "colorbar": {
             "outlinewidth": 0,
             "ticks": ""
            },
            "colorscale": [
             [
              0,
              "#0d0887"
             ],
             [
              0.1111111111111111,
              "#46039f"
             ],
             [
              0.2222222222222222,
              "#7201a8"
             ],
             [
              0.3333333333333333,
              "#9c179e"
             ],
             [
              0.4444444444444444,
              "#bd3786"
             ],
             [
              0.5555555555555556,
              "#d8576b"
             ],
             [
              0.6666666666666666,
              "#ed7953"
             ],
             [
              0.7777777777777778,
              "#fb9f3a"
             ],
             [
              0.8888888888888888,
              "#fdca26"
             ],
             [
              1,
              "#f0f921"
             ]
            ],
            "type": "surface"
           }
          ],
          "table": [
           {
            "cells": {
             "fill": {
              "color": "#EBF0F8"
             },
             "line": {
              "color": "white"
             }
            },
            "header": {
             "fill": {
              "color": "#C8D4E3"
             },
             "line": {
              "color": "white"
             }
            },
            "type": "table"
           }
          ]
         },
         "layout": {
          "annotationdefaults": {
           "arrowcolor": "#2a3f5f",
           "arrowhead": 0,
           "arrowwidth": 1
          },
          "autotypenumbers": "strict",
          "coloraxis": {
           "colorbar": {
            "outlinewidth": 0,
            "ticks": ""
           }
          },
          "colorscale": {
           "diverging": [
            [
             0,
             "#8e0152"
            ],
            [
             0.1,
             "#c51b7d"
            ],
            [
             0.2,
             "#de77ae"
            ],
            [
             0.3,
             "#f1b6da"
            ],
            [
             0.4,
             "#fde0ef"
            ],
            [
             0.5,
             "#f7f7f7"
            ],
            [
             0.6,
             "#e6f5d0"
            ],
            [
             0.7,
             "#b8e186"
            ],
            [
             0.8,
             "#7fbc41"
            ],
            [
             0.9,
             "#4d9221"
            ],
            [
             1,
             "#276419"
            ]
           ],
           "sequential": [
            [
             0,
             "#0d0887"
            ],
            [
             0.1111111111111111,
             "#46039f"
            ],
            [
             0.2222222222222222,
             "#7201a8"
            ],
            [
             0.3333333333333333,
             "#9c179e"
            ],
            [
             0.4444444444444444,
             "#bd3786"
            ],
            [
             0.5555555555555556,
             "#d8576b"
            ],
            [
             0.6666666666666666,
             "#ed7953"
            ],
            [
             0.7777777777777778,
             "#fb9f3a"
            ],
            [
             0.8888888888888888,
             "#fdca26"
            ],
            [
             1,
             "#f0f921"
            ]
           ],
           "sequentialminus": [
            [
             0,
             "#0d0887"
            ],
            [
             0.1111111111111111,
             "#46039f"
            ],
            [
             0.2222222222222222,
             "#7201a8"
            ],
            [
             0.3333333333333333,
             "#9c179e"
            ],
            [
             0.4444444444444444,
             "#bd3786"
            ],
            [
             0.5555555555555556,
             "#d8576b"
            ],
            [
             0.6666666666666666,
             "#ed7953"
            ],
            [
             0.7777777777777778,
             "#fb9f3a"
            ],
            [
             0.8888888888888888,
             "#fdca26"
            ],
            [
             1,
             "#f0f921"
            ]
           ]
          },
          "colorway": [
           "#636efa",
           "#EF553B",
           "#00cc96",
           "#ab63fa",
           "#FFA15A",
           "#19d3f3",
           "#FF6692",
           "#B6E880",
           "#FF97FF",
           "#FECB52"
          ],
          "font": {
           "color": "#2a3f5f"
          },
          "geo": {
           "bgcolor": "white",
           "lakecolor": "white",
           "landcolor": "#E5ECF6",
           "showlakes": true,
           "showland": true,
           "subunitcolor": "white"
          },
          "hoverlabel": {
           "align": "left"
          },
          "hovermode": "closest",
          "mapbox": {
           "style": "light"
          },
          "paper_bgcolor": "white",
          "plot_bgcolor": "#E5ECF6",
          "polar": {
           "angularaxis": {
            "gridcolor": "white",
            "linecolor": "white",
            "ticks": ""
           },
           "bgcolor": "#E5ECF6",
           "radialaxis": {
            "gridcolor": "white",
            "linecolor": "white",
            "ticks": ""
           }
          },
          "scene": {
           "xaxis": {
            "backgroundcolor": "#E5ECF6",
            "gridcolor": "white",
            "gridwidth": 2,
            "linecolor": "white",
            "showbackground": true,
            "ticks": "",
            "zerolinecolor": "white"
           },
           "yaxis": {
            "backgroundcolor": "#E5ECF6",
            "gridcolor": "white",
            "gridwidth": 2,
            "linecolor": "white",
            "showbackground": true,
            "ticks": "",
            "zerolinecolor": "white"
           },
           "zaxis": {
            "backgroundcolor": "#E5ECF6",
            "gridcolor": "white",
            "gridwidth": 2,
            "linecolor": "white",
            "showbackground": true,
            "ticks": "",
            "zerolinecolor": "white"
           }
          },
          "shapedefaults": {
           "line": {
            "color": "#2a3f5f"
           }
          },
          "ternary": {
           "aaxis": {
            "gridcolor": "white",
            "linecolor": "white",
            "ticks": ""
           },
           "baxis": {
            "gridcolor": "white",
            "linecolor": "white",
            "ticks": ""
           },
           "bgcolor": "#E5ECF6",
           "caxis": {
            "gridcolor": "white",
            "linecolor": "white",
            "ticks": ""
           }
          },
          "title": {
           "x": 0.05
          },
          "xaxis": {
           "automargin": true,
           "gridcolor": "white",
           "linecolor": "white",
           "ticks": "",
           "title": {
            "standoff": 15
           },
           "zerolinecolor": "white",
           "zerolinewidth": 2
          },
          "yaxis": {
           "automargin": true,
           "gridcolor": "white",
           "linecolor": "white",
           "ticks": "",
           "title": {
            "standoff": 15
           },
           "zerolinecolor": "white",
           "zerolinewidth": 2
          }
         }
        },
        "xaxis": {
         "anchor": "y",
         "domain": [
          0,
          1
         ],
         "title": {
          "text": "Year Published"
         }
        },
        "yaxis": {
         "anchor": "x",
         "domain": [
          0,
          1
         ],
         "title": {
          "text": "Rating Average"
         }
        }
       }
      }
     },
     "metadata": {},
     "output_type": "display_data"
    }
   ],
   "source": [
    "gg = data_ord\n",
    "gg = gg.loc[gg['Rating Average'] > 8]\n",
    "fig = px.scatter(gg, x=\"Year Published\", y=\"Rating Average\", color=\"Domains\")\n",
    "fig.show()"
   ]
  },
  {
   "cell_type": "code",
   "execution_count": 194,
   "metadata": {},
   "outputs": [
    {
     "data": {
      "image/png": "[encoded data removed]",
      "text/plain": [
       "<Figure size 720x432 with 1 Axes>"
      ]
     },
     "metadata": {
      "needs_background": "light"
     },
     "output_type": "display_data"
    }
   ],
   "source": [
    "tipo = sepe(sep(data[\"Domains\"]))\n",
    "tipo = pd.DataFrame(tipo,columns=['Domains'])\n",
    "\n",
    "\n",
    "fig,ax = plt.subplots(figsize=(10,6))\n",
    "\n",
    "sns.histplot(x=\"Domains\",data=tipo, binwidth=10,discrete=True)\n",
    "plt.xticks(rotation= 90)\n",
    "plt.xlabel(\"Tipo de Juego\")\n",
    "plt.ylabel(\"Cantidad del tipo\");\n"
   ]
  },
  {
   "cell_type": "code",
   "execution_count": null,
   "metadata": {},
   "outputs": [
    {
     "name": "stderr",
     "output_type": "stream",
     "text": [
      "c:\\Users\\Zino\\AppData\\Local\\Programs\\Python\\Python37\\lib\\site-packages\\seaborn\\_decorators.py:43: FutureWarning:\n",
      "\n",
      "Pass the following variables as keyword args: x, y. From version 0.12, the only valid positional argument will be `data`, and passing other arguments without an explicit keyword will result in an error or misinterpretation.\n",
      "\n"
     ]
    },
    {
     "data": {
      "image/png": "[encoded data removed]",
      "text/plain": [
       "<Figure size 720x432 with 1 Axes>"
      ]
     },
     "metadata": {
      "needs_background": "light"
     },
     "output_type": "display_data"
    }
   ],
   "source": [
    "#Con esta grafica podemos entender que de la familia de strategia las mecanicas mas interesantes son estas viendo que superior a 300 usuarios les gusta esa mecanica\n",
    "strat = data[data['Domains'] == 'Strategy Games']\n",
    "strat = sepe(sep(strat[\"Mechanics\"]))\n",
    "strat = pd.DataFrame(strat,columns=['Mechanics'])\n",
    "dups_macanics = strat.pivot_table(columns=[\"Mechanics\"], aggfunc='size')\n",
    "dups_macanics= pd.DataFrame(dups_macanics,columns=['Amount']).sort_values(by='Amount',ascending=False).reset_index()\n",
    "dups_macanics = dups_macanics[dups_macanics.Amount > 300]\n",
    "fig,ax = plt.subplots(figsize=(10,6))\n",
    "sns.barplot(\"Mechanics\",\"Amount\", data=dups_macanics)\n",
    "plt.xticks(rotation= 90)\n",
    "plt.xlabel(\"Mecanica\")\n",
    "ax.axes.get_yaxis().set_visible(False);\n"
   ]
  },
  {
   "cell_type": "code",
   "execution_count": null,
   "metadata": {},
   "outputs": [
    {
     "name": "stderr",
     "output_type": "stream",
     "text": [
      "c:\\Users\\Zino\\AppData\\Local\\Programs\\Python\\Python37\\lib\\site-packages\\seaborn\\_decorators.py:43: FutureWarning:\n",
      "\n",
      "Pass the following variables as keyword args: x, y. From version 0.12, the only valid positional argument will be `data`, and passing other arguments without an explicit keyword will result in an error or misinterpretation.\n",
      "\n"
     ]
    },
    {
     "data": {
      "image/png": "[encoded data removed]",
      "text/plain": [
       "<Figure size 720x432 with 1 Axes>"
      ]
     },
     "metadata": {
      "needs_background": "light"
     },
     "output_type": "display_data"
    }
   ],
   "source": [
    "simple = data[data['Domains'] == 'Simple']\n",
    "simple = sepe(sep(simple[\"Mechanics\"]))\n",
    "simple = pd.DataFrame(simple,columns=['Mechanics'])\n",
    "dups_simple = simple.pivot_table(columns=[\"Mechanics\"], aggfunc='size')\n",
    "dups_simple= pd.DataFrame(dups_simple,columns=['Amount']).sort_values(by='Amount',ascending=False).reset_index()\n",
    "dups_simple = dups_simple[dups_simple.Amount > 1000]\n",
    "fig,ax = plt.subplots(figsize=(10,6))\n",
    "sns.barplot(\"Mechanics\",\"Amount\", data=dups_simple)\n",
    "plt.xticks(rotation= 90)\n",
    "plt.xlabel(\"Mecanica\")\n",
    "ax.axes.get_yaxis().set_visible(False);"
   ]
  },
  {
   "cell_type": "code",
   "execution_count": null,
   "metadata": {},
   "outputs": [
    {
     "name": "stderr",
     "output_type": "stream",
     "text": [
      "c:\\Users\\Zino\\AppData\\Local\\Programs\\Python\\Python37\\lib\\site-packages\\seaborn\\_decorators.py:43: FutureWarning:\n",
      "\n",
      "Pass the following variables as keyword args: x, y. From version 0.12, the only valid positional argument will be `data`, and passing other arguments without an explicit keyword will result in an error or misinterpretation.\n",
      "\n"
     ]
    },
    {
     "data": {
      "image/png": "[encoded data removed]",
      "text/plain": [
       "<Figure size 720x432 with 1 Axes>"
      ]
     },
     "metadata": {
      "needs_background": "light"
     },
     "output_type": "display_data"
    }
   ],
   "source": [
    "wargames = data[data['Domains'] == 'Wargames']\n",
    "wargames = sepe(sep(wargames[\"Mechanics\"]))\n",
    "wargames = pd.DataFrame(wargames,columns=['Mechanics'])\n",
    "dups_wargames = wargames.pivot_table(columns=[\"Mechanics\"], aggfunc='size')\n",
    "dups_wargames= pd.DataFrame(dups_wargames,columns=['Amount']).sort_values(by='Amount',ascending=False).reset_index()\n",
    "dups_wargames = dups_wargames[dups_wargames.Amount > 500]\n",
    "fig,ax = plt.subplots(figsize=(10,6))\n",
    "sns.barplot(\"Mechanics\",\"Amount\", data=dups_wargames)\n",
    "plt.xticks(rotation= 90)\n",
    "plt.xlabel(\"Mecanica\")\n",
    "ax.axes.get_yaxis().set_visible(False);"
   ]
  },
  {
   "cell_type": "code",
   "execution_count": null,
   "metadata": {},
   "outputs": [],
   "source": [
    "#Con esto datos podemos en tender que los juegos de mesa en la ultima decada a tenido una caida, y las mas rentables han sido los juegos de mesa"
   ]
  },
  {
   "cell_type": "code",
   "execution_count": null,
   "metadata": {},
   "outputs": [],
   "source": [
    "#Haciendo una investigacion un poco superficial vemos que mediante la epoca avanza los juegos de mesa empiezan a ser un poco obsoletas\n",
    "#con la lleagda de los videojuegos, juntando eso con las compras online y la aparicion de la pandemia podremos deducir su decaida"
   ]
  }
 ],
 "metadata": {
  "interpreter": {
   "hash": "c101919d79be90714b182ef2522c8f3df3d5a324974fa81e1f11202826b0a731"
  },
  "kernelspec": {
   "display_name": "Python 3.7.4 64-bit",
   "language": "python",
   "name": "python3"
  },
  "language_info": {
   "codemirror_mode": {
    "name": "ipython",
    "version": 3
   },
   "file_extension": ".py",
   "mimetype": "text/x-python",
   "name": "python",
   "nbconvert_exporter": "python",
   "pygments_lexer": "ipython3",
   "version": "3.7.4"
  },
  "orig_nbformat": 4
 },
 "nbformat": 4,
 "nbformat_minor": 2
}
